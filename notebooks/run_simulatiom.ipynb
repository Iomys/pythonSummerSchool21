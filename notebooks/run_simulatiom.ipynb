{
 "cells": [
  {
   "cell_type": "code",
   "execution_count": 1,
   "metadata": {
    "collapsed": true
   },
   "outputs": [],
   "source": [
    "from simulation import sim\n",
    "import numpy as np\n",
    "import matplotlib.pyplot as plt"
   ]
  },
  {
   "cell_type": "code",
   "execution_count": 2,
   "outputs": [
    {
     "name": "stdout",
     "output_type": "stream",
     "text": [
      "[  1 200 100   0   0   0   0   0]\n"
     ]
    }
   ],
   "source": [
    "## PARAMS\n",
    "numero_sim = 0\n",
    "\n",
    "\n",
    "input_filename = \"../data/sims/sim{}/input_data.csv\".format(numero_sim)\n",
    "data = np.loadtxt(input_filename,dtype=np.int_ ,delimiter=\";\", comments=\"#\", skiprows=1)\n",
    "print(data)"
   ],
   "metadata": {
    "collapsed": false,
    "pycharm": {
     "name": "#%%\n"
    }
   }
  },
  {
   "cell_type": "code",
   "execution_count": 3,
   "outputs": [
    {
     "name": "stdout",
     "output_type": "stream",
     "text": [
      "(0, 100, 15.0)\n",
      "(0, 100, 15.0)\n",
      "(0, 100, 15.0)\n",
      "(0, 100, 15.0)\n",
      "(0, 100, 15.0)\n",
      "(0, 100, 15.0)\n",
      "(0, 100, 15.0)\n",
      "(0, 100, 15.0)\n"
     ]
    }
   ],
   "source": [
    "# Equivalence des colonnes dans le csv:\n",
    "COLS_EQ = {\n",
    "    \"heure\":0,\n",
    "    \"prodPV\":1,\n",
    "    \"prodHydro\":2,\n",
    "    \"prodSolTh\":3,\n",
    "    \"consChal\":4,\n",
    "    \"consECS\":5,\n",
    "    \"consFroid\":6,\n",
    "    \"consElec\":7,\n",
    "}\n",
    "\n",
    "sim_results = sim(1, 100, 0,0,0,0,0,100)\n",
    "    #sim_results = sim(line[0],line[1],line[2],line[3],line[4],line[5],line[6],line[7])\n",
    "    #sim_results = sim(heure=line[COLS_EQ[\"heure\"]], prodHydro=line[COLS_EQ[\"prodHydro\"]], prodPV=line[COLS_EQ[\"prodPV\"]], prodSolTh=line[COLS_EQ[\"prodSolTh\"]],\n",
    "    #    consoChal=line[COLS_EQ[\"consChal\"]], consoECS=line[COLS_EQ[\"consECS\"]], consoFroid=line[COLS_EQ[\"consFroid\"]],\n",
    "    #    consoElec=line[COLS_EQ[\"consElec\"]])\n",
    "print(sim_results)\n",
    "\n",
    "\n",
    "\n"
   ],
   "metadata": {
    "collapsed": false,
    "pycharm": {
     "name": "#%%\n"
    }
   }
  }
 ],
 "metadata": {
  "kernelspec": {
   "display_name": "Python 3",
   "language": "python",
   "name": "python3"
  },
  "language_info": {
   "codemirror_mode": {
    "name": "ipython",
    "version": 2
   },
   "file_extension": ".py",
   "mimetype": "text/x-python",
   "name": "python",
   "nbconvert_exporter": "python",
   "pygments_lexer": "ipython2",
   "version": "2.7.6"
  }
 },
 "nbformat": 4,
 "nbformat_minor": 0
}